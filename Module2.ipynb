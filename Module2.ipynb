{
 "metadata": {
  "name": "",
  "signature": "sha256:ad121892d6b42a12570f36628f8802d181d5f1faf511f3ab3a7a499cad365a6c"
 },
 "nbformat": 3,
 "nbformat_minor": 0,
 "worksheets": [
  {
   "cells": [
    {
     "cell_type": "heading",
     "level": 1,
     "metadata": {},
     "source": [
      "Module 2: Build a classifier based on KNN"
     ]
    },
    {
     "cell_type": "heading",
     "level": 2,
     "metadata": {},
     "source": [
      "Learning activity 1: Overview of KNN [20 min]"
     ]
    },
    {
     "cell_type": "markdown",
     "metadata": {},
     "source": [
      "Learning outcomes:\n",
      "\n",
      "- Understand what KNN is trying to solve\n",
      "\n",
      "- Understand how KNN works and its downsides"
     ]
    },
    {
     "cell_type": "markdown",
     "metadata": {},
     "source": [
      "There are many machine learning algorithms available; here we'll go into brief detail on two common and interesting ones: K-nearest neighbour and Naive Bayes."
     ]
    },
    {
     "cell_type": "markdown",
     "metadata": {},
     "source": [
      "- Introduction to KNN algorithm\n",
      "\n",
      "- How KNN works\n",
      "\n",
      "- Example of learning routines that rely on nearest neighbours\n",
      "\n",
      "  - Kernal density estimation\n",
      "  \n",
      "  - other examples?\n",
      "  \n",
      "- Downsides of KNN\n",
      "\n",
      "  - High computational cost\n",
      "  \n",
      "  - Weighted data points can be too high"
     ]
    },
    {
     "cell_type": "heading",
     "level": 2,
     "metadata": {},
     "source": [
      "Learning activity 2: Apply nearest neighbours algorithm with scikit-learn [20 min]"
     ]
    },
    {
     "cell_type": "markdown",
     "metadata": {},
     "source": [
      "Learning outcomes:\n",
      "\n",
      "- Understand how to run scikit-learn\n",
      "\n",
      "- Understand how to configure KNN in scikit-learn\n",
      "\n",
      "- Apply KNN to a real dataset"
     ]
    },
    {
     "cell_type": "heading",
     "level": 3,
     "metadata": {},
     "source": [
      "Introduction to classes from sklearn.neighbors library"
     ]
    },
    {
     "cell_type": "code",
     "collapsed": false,
     "input": [],
     "language": "python",
     "metadata": {},
     "outputs": []
    },
    {
     "cell_type": "heading",
     "level": 3,
     "metadata": {},
     "source": [
      "Find nearest neighbour with breast cancer example data"
     ]
    },
    {
     "cell_type": "code",
     "collapsed": false,
     "input": [
      "(KDtree,  BallTree, NearestNeighbors)"
     ],
     "language": "python",
     "metadata": {},
     "outputs": []
    },
    {
     "cell_type": "heading",
     "level": 3,
     "metadata": {},
     "source": [
      "Explore options available for neighbour search"
     ]
    },
    {
     "cell_type": "code",
     "collapsed": false,
     "input": [
      "(Include various distance metrics)"
     ],
     "language": "python",
     "metadata": {},
     "outputs": []
    },
    {
     "cell_type": "heading",
     "level": 2,
     "metadata": {},
     "source": [
      "Learning activity 3: Classification [20 min]"
     ]
    },
    {
     "cell_type": "markdown",
     "metadata": {},
     "source": [
      "Learning outcomes:\n",
      "\n",
      "- Understand how KNN classification works  \n",
      "\n",
      "- Classify using scikit-learn implemented classifiers\n",
      "\n",
      "- Understand differences between classifiers"
     ]
    },
    {
     "cell_type": "heading",
     "level": 3,
     "metadata": {},
     "source": [
      "Introduction to classifiers and how they work"
     ]
    },
    {
     "cell_type": "code",
     "collapsed": false,
     "input": [
      "KNeighborsClassifier, RadiusNeighborsClassifier"
     ],
     "language": "python",
     "metadata": {},
     "outputs": []
    },
    {
     "cell_type": "heading",
     "level": 3,
     "metadata": {},
     "source": [
      "Demonstrate the use of weights\n"
     ]
    },
    {
     "cell_type": "code",
     "collapsed": false,
     "input": [
      "(use uniform weights vs assigning weights to neighbours through 'weights' keyword)"
     ],
     "language": "python",
     "metadata": {},
     "outputs": []
    },
    {
     "cell_type": "heading",
     "level": 3,
     "metadata": {},
     "source": [
      "Discrete vs continuous variables"
     ]
    },
    {
     "cell_type": "code",
     "collapsed": false,
     "input": [
      "(mention Nearest Neighbours Regression for continuous variables)"
     ],
     "language": "python",
     "metadata": {},
     "outputs": []
    },
    {
     "cell_type": "heading",
     "level": 3,
     "metadata": {},
     "source": [
      "Plots of classification results"
     ]
    },
    {
     "cell_type": "code",
     "collapsed": false,
     "input": [],
     "language": "python",
     "metadata": {},
     "outputs": []
    },
    {
     "cell_type": "heading",
     "level": 2,
     "metadata": {},
     "source": [
      "Learning activity 4: Validation metrics [20min]"
     ]
    },
    {
     "cell_type": "markdown",
     "metadata": {},
     "source": [
      "Learning outcomes:\n",
      "\n",
      "- Know the metrics by which models can be evaluated\n",
      "\n",
      "- Understand how to evaluate performance in terms of accuracy and recall\n",
      "\n",
      "- Know how to use cross validation"
     ]
    },
    {
     "cell_type": "heading",
     "level": 3,
     "metadata": {},
     "source": [
      "Describe metrics to validate classifier (precision/accuracy and recall)"
     ]
    },
    {
     "cell_type": "code",
     "collapsed": false,
     "input": [],
     "language": "python",
     "metadata": {},
     "outputs": []
    },
    {
     "cell_type": "heading",
     "level": 3,
     "metadata": {},
     "source": [
      "Explore validation metrics with examples"
     ]
    },
    {
     "cell_type": "code",
     "collapsed": false,
     "input": [],
     "language": "python",
     "metadata": {},
     "outputs": []
    },
    {
     "cell_type": "heading",
     "level": 3,
     "metadata": {},
     "source": [
      "If time allows: Introduction to cross-validation"
     ]
    },
    {
     "cell_type": "code",
     "collapsed": false,
     "input": [],
     "language": "python",
     "metadata": {},
     "outputs": []
    }
   ],
   "metadata": {}
  }
 ]
}